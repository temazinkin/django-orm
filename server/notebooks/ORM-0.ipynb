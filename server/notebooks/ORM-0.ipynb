{
 "cells": [
  {
   "cell_type": "code",
   "execution_count": 1,
   "id": "17b33114",
   "metadata": {},
   "outputs": [],
   "source": [
    "!pip install pandas -q"
   ]
  },
  {
   "cell_type": "code",
   "execution_count": 30,
   "id": "37b240f9",
   "metadata": {},
   "outputs": [],
   "source": [
    "import os\n",
    "\n",
    "os.environ[\"DJANGO_ALLOW_ASYNC_UNSAFE\"] = \"true\"\n",
    "\n",
    "from utils import sql_raw, print_sql\n",
    "from sqlparse import format\n",
    "from pandas import DataFrame as df"
   ]
  },
  {
   "cell_type": "code",
   "execution_count": 11,
   "id": "f4b3e3ee",
   "metadata": {},
   "outputs": [],
   "source": [
    "from django.db.models import (\n",
    "    Q,\n",
    "    F,\n",
    "    Case,\n",
    "    When,\n",
    "    Count,\n",
    "    Func,\n",
    "    Min,\n",
    "    Max,\n",
    "    Sum,\n",
    "    Avg,\n",
    "    Value,\n",
    "    OuterRef,\n",
    "    Subquery,\n",
    "    CharField,\n",
    ")\n",
    "from django.db.models.functions import Concat, Cast, Round, Length\n",
    "from django.db import connection\n",
    "from customer_db.models import Province, Patient, Doctor, Admission"
   ]
  },
  {
   "cell_type": "markdown",
   "id": "d73f0c3f",
   "metadata": {},
   "source": [
    "## Простые запросы"
   ]
  },
  {
   "cell_type": "code",
   "execution_count": 29,
   "id": "132f0c6a",
   "metadata": {},
   "outputs": [],
   "source": [
    "sql_query = sql_raw(\"SELECT * FROM patients\")"
   ]
  },
  {
   "cell_type": "code",
   "execution_count": 32,
   "id": "bacd261e",
   "metadata": {},
   "outputs": [],
   "source": [
    "orm_query = Patient.objects.all()"
   ]
  }
 ],
 "metadata": {
  "kernelspec": {
   "display_name": "Django Shell-Plus",
   "language": "python",
   "name": "django_extensions"
  },
  "language_info": {
   "codemirror_mode": {
    "name": "ipython",
    "version": 3
   },
   "file_extension": ".py",
   "mimetype": "text/x-python",
   "name": "python",
   "nbconvert_exporter": "python",
   "pygments_lexer": "ipython3",
   "version": "3.12.1"
  }
 },
 "nbformat": 4,
 "nbformat_minor": 5
}
