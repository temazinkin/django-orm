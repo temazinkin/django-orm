{
 "cells": [
  {
   "cell_type": "code",
   "execution_count": null,
   "id": "37b240f9",
   "metadata": {},
   "outputs": [],
   "source": [
    "import os\n",
    "\n",
    "os.environ[\"DJANGO_ALLOW_ASYNC_UNSAFE\"] = \"true\"\n",
    "\n",
    "from utils import sql_raw, print_sql\n",
    "from sqlparse import format\n",
    "from pandas import DataFrame as df"
   ]
  },
  {
   "cell_type": "code",
   "execution_count": null,
   "id": "f4b3e3ee",
   "metadata": {},
   "outputs": [],
   "source": [
    "from django.db.models import (\n",
    "    Q,\n",
    "    F,\n",
    "    Case,\n",
    "    When,\n",
    "    Count,\n",
    "    Func,\n",
    "    Min,\n",
    "    Max,\n",
    "    Sum,\n",
    "    Avg,\n",
    "    Value,\n",
    "    OuterRef,\n",
    "    Subquery,\n",
    "    CharField,\n",
    ")\n",
    "from django.db.models.functions import Concat, Cast, Round, Length\n",
    "from django.db import connection\n",
    "from customer_db.models import Province, Patient, Doctor, Admission"
   ]
  },
  {
   "cell_type": "markdown",
   "id": "d73f0c3f",
   "metadata": {},
   "source": [
    "## Задание 1\n",
    "\n",
    "Выведите имя_пациента и дату поступления из таблицы поступлений. Порядок по имени_пациента и дате поступления"
   ]
  },
  {
   "cell_type": "code",
   "execution_count": null,
   "id": "132f0c6a",
   "metadata": {},
   "outputs": [],
   "source": [
    "qstr = \"\"\"\n",
    "SELECT\n",
    "  p.first_name,\n",
    "  admission_date\n",
    "FROM admissions a\n",
    "JOIN patients p on p.patient_id = a.patient_id\n",
    "ORDER By p.first_name, admission_date\n",
    "\"\"\"\n",
    "sqlq = sql_raw(qstr)"
   ]
  },
  {
   "cell_type": "code",
   "execution_count": null,
   "id": "bacd261e",
   "metadata": {},
   "outputs": [],
   "source": [
    "orm_query = Patient.objects.all()"
   ]
  },
  {
   "cell_type": "markdown",
   "id": "9db6d5f3",
   "metadata": {},
   "source": [
    "## Задание 2\n",
    "\n",
    "Показать имя и фамилию пациентов, пол которых «M»."
   ]
  },
  {
   "cell_type": "code",
   "execution_count": null,
   "id": "5eeb3628",
   "metadata": {},
   "outputs": [],
   "source": [
    "qstr = \"\"\"\n",
    "SELECT\n",
    "  first_name,\n",
    "  last_name,\n",
    "  gender\n",
    "FROM Patients\n",
    "WHERE gender = 'M';\n",
    "\"\"\"\n",
    "sqlq = sql_raw(qstr)"
   ]
  },
  {
   "cell_type": "code",
   "execution_count": null,
   "id": "9010d167",
   "metadata": {},
   "outputs": [],
   "source": []
  },
  {
   "cell_type": "markdown",
   "id": "11e9f50b",
   "metadata": {},
   "source": [
    "## Задание 3\n",
    "\n",
    "Показать имя и фамилию пациентов, у которых нет аллергии. (null)"
   ]
  },
  {
   "cell_type": "code",
   "execution_count": null,
   "id": "61ab0a65",
   "metadata": {},
   "outputs": [],
   "source": [
    "qstr = \"\"\"\n",
    "SELECT\n",
    "  first_name,\n",
    "  last_name\n",
    "FROM Patients\n",
    "WHERE allergies IS NULL;\n",
    "\"\"\"\n",
    "sqlq = sql_raw(qstr)"
   ]
  },
  {
   "cell_type": "code",
   "execution_count": null,
   "id": "8b48abb3",
   "metadata": {},
   "outputs": [],
   "source": []
  },
  {
   "cell_type": "markdown",
   "id": "3751e4a6",
   "metadata": {},
   "source": [
    "## Задание 4\n",
    "\n",
    "Показать фамилии пациентов, начинающиеся на букву «С»"
   ]
  },
  {
   "cell_type": "code",
   "execution_count": null,
   "id": "1009bd2f",
   "metadata": {},
   "outputs": [],
   "source": [
    "qstr = \"\"\"\n",
    "SELECT first_name\n",
    "FROM Patients\n",
    "WHERE first_name LIKE 'C%';\n",
    "\"\"\"\n",
    "sqlq = sql_raw(qstr)"
   ]
  },
  {
   "cell_type": "code",
   "execution_count": null,
   "id": "e1e3be34",
   "metadata": {},
   "outputs": [],
   "source": []
  },
  {
   "cell_type": "markdown",
   "id": "4053f0c9",
   "metadata": {},
   "source": [
    "## Задание 5\n",
    "\n",
    "Покажите имя и фамилию пациентов, вес которых находится в диапазоне от 70 до 80 (включительно)"
   ]
  },
  {
   "cell_type": "code",
   "execution_count": null,
   "id": "e2fc1ec3",
   "metadata": {},
   "outputs": [],
   "source": [
    "qstr = \"\"\"\n",
    "SELECT\n",
    "  first_name,\n",
    "  last_name\n",
    "FROM Patients\n",
    "WHERE weight BETWEEN 70 AND 80;\n",
    "\"\"\"\n",
    "sqlq = sql_raw(qstr)"
   ]
  },
  {
   "cell_type": "code",
   "execution_count": null,
   "id": "9234377f",
   "metadata": {},
   "outputs": [],
   "source": []
  },
  {
   "cell_type": "markdown",
   "id": "40ecc157",
   "metadata": {},
   "source": [
    "## Задание 6\n",
    "\n",
    "Покажите имя и фамилию, объединенные в один столбец, чтобы показать их полное имя"
   ]
  },
  {
   "cell_type": "code",
   "execution_count": null,
   "id": "3c811608",
   "metadata": {},
   "outputs": [],
   "source": [
    "qstr = \"\"\"\n",
    "SELECT\n",
    "  first_name || ' ' || last_name AS full_name\n",
    "FROM patients;\n",
    "\"\"\"\n",
    "sqlq = sql_raw(qstr)"
   ]
  },
  {
   "cell_type": "code",
   "execution_count": null,
   "id": "832fb28d",
   "metadata": {},
   "outputs": [],
   "source": []
  },
  {
   "cell_type": "markdown",
   "id": "3fbd4e2d",
   "metadata": {},
   "source": [
    "## Задание 7\n",
    "\n",
    "Укажите имя, фамилию и полное название провинции каждого пациента"
   ]
  },
  {
   "cell_type": "code",
   "execution_count": null,
   "id": "0c9faca4",
   "metadata": {},
   "outputs": [],
   "source": [
    "qstr = \"\"\"\n",
    "SELECT\n",
    "  first_name,\n",
    "  last_name,\n",
    "  province_name\n",
    "FROM Patients p\n",
    "  INNER JOIN province_names pn ON p.province_id = pn.province_id;\n",
    "\"\"\"\n",
    "sqlq = sql_raw(qstr)"
   ]
  },
  {
   "cell_type": "code",
   "execution_count": null,
   "id": "5c0ecf21",
   "metadata": {},
   "outputs": [],
   "source": []
  },
  {
   "cell_type": "markdown",
   "id": "1b05bfa2",
   "metadata": {},
   "source": [
    "## Задание 8\n",
    "\n",
    "Покажите, у скольких пациентов дата_рождения содержит 1995 год"
   ]
  },
  {
   "cell_type": "code",
   "execution_count": null,
   "id": "bbdb4659",
   "metadata": {},
   "outputs": [],
   "source": [
    "qstr = \"\"\"\n",
    "SELECT COUNT(*) AS birth_count\n",
    "FROM Patients\n",
    "WHERE strftime('%Y', birth_date) = '1995';\n",
    "\"\"\"\n",
    "sqlq = sql_raw(qstr)"
   ]
  },
  {
   "cell_type": "code",
   "execution_count": null,
   "id": "502e6527",
   "metadata": {},
   "outputs": [],
   "source": []
  },
  {
   "cell_type": "markdown",
   "id": "5a178bef",
   "metadata": {},
   "source": [
    "## Задание 9\n",
    "\n",
    "Укажите имя_фамилию, фамилию и рост пациента с наибольшим ростом"
   ]
  },
  {
   "cell_type": "code",
   "execution_count": null,
   "id": "c88e660d",
   "metadata": {},
   "outputs": [],
   "source": [
    "qstr = \"\"\"\n",
    "SELECT\n",
    "  first_name,\n",
    "  last_name,\n",
    "  Max(height) AS max_height\n",
    "FROM patients;\n",
    "\"\"\"\n",
    "sqlq = sql_raw(qstr)"
   ]
  },
  {
   "cell_type": "code",
   "execution_count": null,
   "id": "98d883dd",
   "metadata": {},
   "outputs": [],
   "source": []
  },
  {
   "cell_type": "markdown",
   "id": "a4b47d02",
   "metadata": {},
   "source": [
    "## Задание 10\n",
    "\n",
    "Покажите все столбцы для пациентов, имеющих один из следующих идентификаторов patient_ids: 1,45,53,87,100"
   ]
  },
  {
   "cell_type": "code",
   "execution_count": null,
   "id": "25f51cb1",
   "metadata": {},
   "outputs": [],
   "source": [
    "qstr = \"\"\"\n",
    "SELECT\n",
    "  *\n",
    "FROM patients\n",
    "WHERE patient_id IN (1, 45, 53, 87, 100);\n",
    "\"\"\"\n",
    "sqlq = sql_raw(qstr)"
   ]
  },
  {
   "cell_type": "code",
   "execution_count": null,
   "id": "19e1c07a",
   "metadata": {},
   "outputs": [],
   "source": []
  },
  {
   "cell_type": "markdown",
   "id": "32c7d920",
   "metadata": {},
   "source": [
    "## Задание 11\n",
    "\n",
    "Покажите общее количество записей в таблице admissions"
   ]
  },
  {
   "cell_type": "code",
   "execution_count": null,
   "id": "b3af07ad",
   "metadata": {},
   "outputs": [],
   "source": [
    "sqlq = sql_raw(\"SELECT COUNT(*) AS total FROM admissions\")"
   ]
  },
  {
   "cell_type": "code",
   "execution_count": null,
   "id": "ac73128e",
   "metadata": {},
   "outputs": [],
   "source": []
  },
  {
   "cell_type": "markdown",
   "id": "7323b4db",
   "metadata": {},
   "source": [
    "## Задание 12\n",
    "\n",
    "Показать все столбцы, в которых пациент был принят и выписан в один и тот же день"
   ]
  },
  {
   "cell_type": "code",
   "execution_count": null,
   "id": "adb81b42",
   "metadata": {},
   "outputs": [],
   "source": [
    "qstr = \"\"\"\n",
    "SELECT *\n",
    "FROM admissions\n",
    "WHERE admission_date = discharge_date;\n",
    "\"\"\"\n",
    "sqlq = sql_raw(qstr)"
   ]
  },
  {
   "cell_type": "code",
   "execution_count": null,
   "id": "45832036",
   "metadata": {},
   "outputs": [],
   "source": []
  },
  {
   "cell_type": "markdown",
   "id": "2d1d3fe8",
   "metadata": {},
   "source": [
    "## Задание 13\n",
    "\n",
    "Покажите идентификатор пациента и общее количество приемов для `patient_id=57`"
   ]
  },
  {
   "cell_type": "code",
   "execution_count": null,
   "id": "f3f35728",
   "metadata": {},
   "outputs": [],
   "source": [
    "qstr = \"\"\"\n",
    "SELECT\n",
    "  patient_id,\n",
    "  Count(patient_id) admissions\n",
    "FROM admissions\n",
    "WHERE patient_id = 57;\n",
    "\"\"\"\n",
    "sqlq = sql_raw(qstr)"
   ]
  },
  {
   "cell_type": "code",
   "execution_count": null,
   "id": "74a937e8",
   "metadata": {},
   "outputs": [],
   "source": []
  },
  {
   "cell_type": "markdown",
   "id": "d5070a90",
   "metadata": {},
   "source": [
    "## Задание 14\n",
    "\n",
    "На основе городов, в которых живут наши пациенты, покажите уникальные города, которые находятся в провинции с идентификатором «NS»"
   ]
  },
  {
   "cell_type": "code",
   "execution_count": null,
   "id": "8cc8586d",
   "metadata": {},
   "outputs": [],
   "source": [
    "qstr = \"\"\"\n",
    "SELECT DISTINCT city\n",
    "FROM patients\n",
    "WHERE province_id = 'NS';\n",
    "\"\"\"\n",
    "sqlq = sql_raw(qstr)"
   ]
  },
  {
   "cell_type": "code",
   "execution_count": null,
   "id": "05aa96d5",
   "metadata": {},
   "outputs": [],
   "source": []
  },
  {
   "cell_type": "markdown",
   "id": "c456ac2f",
   "metadata": {},
   "source": [
    "## Задание 15\n",
    "\n",
    "Напишите запрос, чтобы найти имя_фамилию, фамилию и дату рождения пациентов с ростом более 160 и весом более 70"
   ]
  },
  {
   "cell_type": "code",
   "execution_count": null,
   "id": "00aca915",
   "metadata": {},
   "outputs": [],
   "source": [
    "qstr = \"\"\"\n",
    "SELECT\n",
    "  first_name,\n",
    "  last_name,\n",
    "  birth_date\n",
    "FROM patients\n",
    "WHERE height > 160 AND weight > 70;\n",
    "\"\"\"\n",
    "sqlq = sql_raw(qstr)"
   ]
  },
  {
   "cell_type": "code",
   "execution_count": null,
   "id": "f8f939ee",
   "metadata": {},
   "outputs": [],
   "source": []
  },
  {
   "cell_type": "markdown",
   "id": "07856118",
   "metadata": {},
   "source": [
    "## Задание 16\n",
    "\n",
    "Напишите запрос, чтобы найти список пациентов с именем, фамилией и аллергией из Торонто, где аллергия не равна null"
   ]
  },
  {
   "cell_type": "code",
   "execution_count": null,
   "id": "934abcdb",
   "metadata": {},
   "outputs": [],
   "source": [
    "qstr = \"\"\"\n",
    "SELECT\n",
    "  first_name,\n",
    "  last_name,\n",
    "  allergies\n",
    "FROM patients\n",
    "WHERE\n",
    "  city = 'Toronto'\n",
    "  AND allergies IS NOT NULL;\n",
    "\"\"\"\n",
    "sqlq = sql_raw(qstr)"
   ]
  },
  {
   "cell_type": "code",
   "execution_count": null,
   "id": "57c41874",
   "metadata": {},
   "outputs": [],
   "source": []
  },
  {
   "cell_type": "markdown",
   "id": "cc1a3029",
   "metadata": {},
   "source": [
    "## Задание 17\n",
    "\n",
    "На основе городов, в которых живет наш пациент, напишите запрос, который выведет список уникальных городов, начинающихся с гласной (a, e, i, o, u). Покажите порядок результатов по возрастанию городов"
   ]
  },
  {
   "cell_type": "code",
   "execution_count": null,
   "id": "f3082cd1",
   "metadata": {},
   "outputs": [],
   "source": [
    "# You can use city LIKE '[aeiou]%'\n",
    "# We are doing case insensitve matching here.\n",
    "qstr = \"\"\"\n",
    "SELECT DISTINCT city\n",
    "FROM patients\n",
    "WHERE\n",
    "  city LIKE '[aeiou]%'\n",
    "ORDER BY city;\n",
    "\"\"\"\n",
    "sqlq = sql_raw(qstr)"
   ]
  },
  {
   "cell_type": "code",
   "execution_count": null,
   "id": "5b281691",
   "metadata": {},
   "outputs": [],
   "source": []
  }
 ],
 "metadata": {
  "kernelspec": {
   "display_name": "Django Shell-Plus",
   "language": "python",
   "name": "django_extensions"
  },
  "language_info": {
   "codemirror_mode": {
    "name": "ipython",
    "version": 3
   },
   "file_extension": ".py",
   "mimetype": "text/x-python",
   "name": "python",
   "nbconvert_exporter": "python",
   "pygments_lexer": "ipython3",
   "version": "3.12.1"
  }
 },
 "nbformat": 4,
 "nbformat_minor": 5
}
